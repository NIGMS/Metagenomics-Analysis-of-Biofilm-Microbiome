{
 "cells": [
  {
   "cell_type": "code",
   "execution_count": null,
   "id": "eeab4917-383f-4fc9-8382-bb7c2f0ace6e",
   "metadata": {},
   "outputs": [],
   "source": [
    "from jupyterquiz import display_quiz\n",
    "display_quiz('QS12.json')"
   ]
  },
  {
   "cell_type": "code",
   "execution_count": null,
   "id": "618d811c-10b6-4a86-b9cc-0db40c18eb70",
   "metadata": {},
   "outputs": [],
   "source": []
  }
 ],
 "metadata": {},
 "nbformat": 4,
 "nbformat_minor": 5
}
