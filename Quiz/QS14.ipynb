{
 "cells": [
  {
   "cell_type": "code",
   "execution_count": null,
   "id": "8fa8f281-24df-4c4c-92df-828fae5e7339",
   "metadata": {},
   "outputs": [],
   "source": [
    "from jupyterquiz import display_quiz\n",
    "display_quiz('QS14.json')"
   ]
  },
  {
   "cell_type": "code",
   "execution_count": null,
   "id": "33266ea2-092a-4423-b107-71e84b60647c",
   "metadata": {},
   "outputs": [],
   "source": []
  }
 ],
 "metadata": {},
 "nbformat": 4,
 "nbformat_minor": 5
}
