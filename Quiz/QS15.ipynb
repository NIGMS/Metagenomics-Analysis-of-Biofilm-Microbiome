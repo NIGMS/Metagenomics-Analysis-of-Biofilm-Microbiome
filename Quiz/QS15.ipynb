{
 "cells": [
  {
   "cell_type": "code",
   "execution_count": null,
   "id": "c1619c1f-a022-482d-b3aa-9bf139f2ab92",
   "metadata": {},
   "outputs": [],
   "source": [
    "from jupyterquiz import display_quiz\n",
    "display_quiz('QS15.json')"
   ]
  },
  {
   "cell_type": "code",
   "execution_count": null,
   "id": "0330a9af-d40c-428c-b8f8-33ddfdc30200",
   "metadata": {},
   "outputs": [],
   "source": []
  }
 ],
 "metadata": {},
 "nbformat": 4,
 "nbformat_minor": 5
}
