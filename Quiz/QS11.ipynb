{
 "cells": [
  {
   "cell_type": "code",
   "execution_count": null,
   "id": "1e5b4d0b-c204-4162-b986-2b9430436918",
   "metadata": {},
   "outputs": [],
   "source": [
    "from jupyterquiz import display_quiz\n",
    "display_quiz('QS11.json')"
   ]
  }
 ],
 "metadata": {},
 "nbformat": 4,
 "nbformat_minor": 5
}
