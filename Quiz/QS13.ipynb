{
 "cells": [
  {
   "cell_type": "code",
   "execution_count": null,
   "id": "8de58ab3-6940-440a-b6c4-474eb9021dfe",
   "metadata": {},
   "outputs": [],
   "source": [
    "from jupyterquiz import display_quiz\n",
    "display_quiz('QS13.json')"
   ]
  },
  {
   "cell_type": "code",
   "execution_count": null,
   "id": "34fc57be-77cc-473e-b078-2813c8f8685b",
   "metadata": {},
   "outputs": [],
   "source": []
  }
 ],
 "metadata": {},
 "nbformat": 4,
 "nbformat_minor": 5
}
