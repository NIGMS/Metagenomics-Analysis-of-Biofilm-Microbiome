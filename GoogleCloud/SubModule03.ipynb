{
 "cells": [
  {
   "cell_type": "markdown",
   "metadata": {},
   "source": [
    "![Biofilm image](../images/Biofilm_Website_2.png)"
   ]
  },
  {
   "cell_type": "markdown",
   "metadata": {},
   "source": [
    "# Submodule #3: Biomarker Discovery"
   ]
  },
  {
   "cell_type": "markdown",
   "metadata": {},
   "source": [
    "## Overview\n",
    "\n",
    "Microbiome community gene prediction and functional annotation are critical steps in the biofilm metagenomics workflow. Functional annotation of shotgun metagenomic data has become an increasingly popular method for identifying the aggregate functional capacities encoded by the community’s biofilm. This analysis relies on comparisons of predicted genes with existing, previously annotated sequences in 16s metagenomics samples. Functional profiling provides insights into what functions are carried out by a given biofilm community."
   ]
  },
  {
   "cell_type": "markdown",
   "metadata": {},
   "source": [
    "## Learning Objectives:\n",
    "At the completion of this module, the learner will be able to:\n",
    "- Learn how to discover biomarkers in a microbiome\n",
    "- Run metagenomics marker gene discovery tools\n",
    "- Predict and evaluate resulting genes, proteins and pathway biomarkers using the following tools:\n",
    "    - PICRUSt2\n",
    "    - Qiime2-PICRUSt2 plugin"
   ]
  },
  {
   "cell_type": "markdown",
   "metadata": {},
   "source": [
    "## Get Started\n",
    "### Step 4 - Biomarker Discovery (PICRUSt2, q2-PICRUSt2):\n",
    "The primary tool for functional annotation of metagenomic data is PICRUSt2. This tool can be implemented as a standalone tool, as a Qiime2 plugin, or through the MicrobeAnalystR wrapper workflow. We will show examples of each in this submodule."
   ]
  },
  {
   "cell_type": "markdown",
   "metadata": {},
   "source": [
    "### Install PICRUSt2"
   ]
  },
  {
   "cell_type": "code",
   "execution_count": null,
   "metadata": {},
   "outputs": [],
   "source": [
    "%%capture\n",
    "%%bash\n",
    "\n",
    "wget https://github.com/picrust/picrust2/archive/v2.5.1.tar.gz\n",
    "tar xvzf  v2.5.1.tar.gz\n",
    "rm v2.5.1.tar.gz\n",
    "mamba env create -f picrust2-2.5.1/picrust2-env.yaml\n",
    "mamba run -n picrust2 pip install --editable picrust2-2.5.1/"
   ]
  },
  {
   "cell_type": "markdown",
   "metadata": {},
   "source": [
    "### Biomarker Analysis with PICRUSt2 as a standalone tool (duration ~10 mins)"
   ]
  },
  {
   "cell_type": "markdown",
   "metadata": {},
   "source": [
    "PICRUSt2 uses machine learning to predict functional abundance and capabilities within microbial communities using 16S rRNA marker genes. To start off the analysis we will identify our environment by setting the location of our PICRUSt2 inputs, and outputs. This is a great practice that helps us easily track where our files are located and avoid retyping common paths. First we will run PICRUSt2 as a standalone tool. We start off by defining some data paths as environment variables so that the PICRUSt2 scripts can automatically find them."
   ]
  },
  {
   "cell_type": "markdown",
   "metadata": {},
   "source": [
    "### Assign File Paths as ENV Variables"
   ]
  },
  {
   "cell_type": "code",
   "execution_count": null,
   "metadata": {},
   "outputs": [],
   "source": [
    "%env PICRUST_IN=qiime2_analysis/qiime2_Output/rep-seqs-unzipped/data/dna-sequences.fasta\n",
    "%env BIOM=qiime2_analysis/qiime2_Output/table-unzipped/data/feature-table.biom\n",
    "%env PICRUST_OUT=BioMarker_Discovery/picrust2_output"
   ]
  },
  {
   "cell_type": "markdown",
   "metadata": {},
   "source": [
    "You will notice that our fasta and biom file are both outputs from the denoise analysis using DADA2 from submodule 2. To break it down:\n",
    "- The FeatureData is our **fasta** file (also written as **fna**) and contains **amplicon sequence variants (ASV)** of 16S rRNA reads and IDs found accross the human samples.\n",
    "- The FeatureTable is our **biom** file that contains the IDs of the ASV reads and the number of times these reads were found per sample. "
   ]
  },
  {
   "cell_type": "markdown",
   "metadata": {},
   "source": [
    "Next we will assign an environment variable with the number of available cores on this VM. Since the number of cores will change with each machine type, it is important to capture this with a variable rather than pass a hard-coded integer as an argument for each multi-threaded step."
   ]
  },
  {
   "cell_type": "code",
   "execution_count": null,
   "metadata": {},
   "outputs": [],
   "source": [
    "#define number of cores to use.\n",
    "numthreads=!nproc\n",
    "numthreadsint = int(numthreads[0])\n",
    "%env CORES = $numthreadsint"
   ]
  },
  {
   "cell_type": "markdown",
   "metadata": {},
   "source": [
    "### Run the PICRUSt2 Pipeline"
   ]
  },
  {
   "cell_type": "markdown",
   "metadata": {},
   "source": [
    "The commands below will do two things. Let's discuss each step as we run them:\n",
    "1. place_seqs.py will insert our ASVs reads into a reference tree based on the Integrated Microbial Genomes database. This will produce our out.tre file which will be our input for the next command.\n",
    "2. hsp.py predicts the copy number of gene families for each ASV. You will notice that the script is run twice because we are looking to identify sequences with the 16S rRNA marker and their Enzyme Classification (EC) number."
   ]
  },
  {
   "cell_type": "code",
   "execution_count": null,
   "metadata": {},
   "outputs": [],
   "source": [
    "%%bash\n",
    "source activate picrust2\n",
    "\n",
    "python picrust2-2.5.1/scripts/place_seqs.py -s ${PICRUST_IN} -o ${PICRUST_OUT}/out.tre -p ${CORES} --intermediate ${PICRUST_OUT}/intermediate/place_seqs\n",
    "python picrust2-2.5.1/scripts/hsp.py -i 16S -t ${PICRUST_OUT}/out.tre -o ${PICRUST_OUT}/marker_predicted_and_nsti.tsv.gz -p ${CORES} -n\n",
    "python picrust2-2.5.1/scripts/hsp.py -i EC -t ${PICRUST_OUT}/out.tre -o ${PICRUST_OUT}/EC_predicted.tsv.gz -p ${CORES}"
   ]
  },
  {
   "cell_type": "markdown",
   "metadata": {},
   "source": [
    "3. metagenome_pipeline.py does the same thing as the hsp.py script but the difference is that it predicts gene families weighted by the relative abundance of ASVs in their community."
   ]
  },
  {
   "cell_type": "code",
   "execution_count": null,
   "metadata": {},
   "outputs": [],
   "source": [
    "%%bash\n",
    "source activate picrust2\n",
    "\n",
    "python picrust2-2.5.1/scripts/metagenome_pipeline.py -i ${BIOM} -m ${PICRUST_OUT}/marker_predicted_and_nsti.tsv.gz -f ${PICRUST_OUT}/EC_predicted.tsv.gz -o ${PICRUST_OUT}/EC_metagenome_out --strat_out"
   ]
  },
  {
   "cell_type": "markdown",
   "metadata": {},
   "source": [
    "Our output should show something along the lines that some sequences are above max NSTI cut-off of 2.0. The **nearest-sequenced taxon index (NSTI)** is the branch length between the nearest 16S reference sequence and each ASV. The thought is that as the NSTI value descreases, the closer the relationship is between the ASV reads and the corresponding 16S sequence. Anything above 2 is considered noise and will not be used in the analysis. 11 out of 751 ASVs had a NSTI value equal to or higher than 2 so they were removed to not skew the downstream analysis."
   ]
  },
  {
   "cell_type": "markdown",
   "metadata": {},
   "source": [
    "4. convert_table.py creates attribute tables that link the functional and taxonomic data.\n",
    "5. pathway_pipeline.py predicts pathway-level abundances by using our EC number abundances generated in step 2 and uses the   MetaCyc pathway database to see which pathways are associated with these ASV reads.\n",
    "6. add_descriptions.py will add descriptions of each functional ID to the gene family and pathway abundance tables. "
   ]
  },
  {
   "cell_type": "code",
   "execution_count": null,
   "metadata": {},
   "outputs": [],
   "source": [
    "%%bash\n",
    "source activate picrust2\n",
    "\n",
    "python picrust2-2.5.1/scripts/convert_table.py ${PICRUST_OUT}/EC_metagenome_out/pred_metagenome_contrib.tsv.gz -c contrib_to_legacy -o ${PICRUST_OUT}/EC_metagenome_out/pred_metagenome_contrib.legacy.tsv.gz\n",
    "python picrust2-2.5.1/scripts/pathway_pipeline.py -i ${PICRUST_OUT}/EC_metagenome_out/pred_metagenome_contrib.tsv.gz -o ${PICRUST_OUT}/pathways_out -p ${CORES}\n",
    "python picrust2-2.5.1/scripts/add_descriptions.py -i ${PICRUST_OUT}/EC_metagenome_out/pred_metagenome_unstrat.tsv.gz -m EC -o ${PICRUST_OUT}/EC_metagenome_out/pred_metagenome_unstrat_descrip.tsv.gz\n",
    "python picrust2-2.5.1/scripts/add_descriptions.py -i ${PICRUST_OUT}/pathways_out/path_abun_unstrat.tsv.gz -m METACYC -o ${PICRUST_OUT}/pathways_out/path_abun_unstrat_descrip.tsv.gz"
   ]
  },
  {
   "cell_type": "markdown",
   "metadata": {},
   "source": [
    "Finally, unzip all .gz files"
   ]
  },
  {
   "cell_type": "code",
   "execution_count": null,
   "metadata": {},
   "outputs": [],
   "source": [
    "# Postprocess Data\n",
    "! gunzip -k ${PICRUST_OUT}/*.gz\n",
    "! gunzip -k ${PICRUST_OUT}/EC_metagenome_out/*.gz"
   ]
  },
  {
   "cell_type": "markdown",
   "metadata": {},
   "source": [
    "<div class=\"alert alert-block alert-danger\">\n",
    "    <i class=\"fa fa-exclamation-circle\" aria-hidden=\"true\"></i>\n",
    "    <b>Alert: </b> Unfortunately PICRUSt2 does not let you overwrite output files. If you would like to rerun this analysis again make sure you delete the contents within the output folder via the command:\n",
    "    \n",
    "    rm -r BioMarker_Discovery/picrust2_output\n",
    "    \n",
    "The PICRUSt2 script will make your output directory automatically.\n",
    "</div>"
   ]
  },
  {
   "cell_type": "markdown",
   "metadata": {},
   "source": [
    "## Biomarker Analysis with PICRUSt2 as a Qiime2 plugin (duration ~ 30 mins)"
   ]
  },
  {
   "cell_type": "markdown",
   "metadata": {},
   "source": [
    "## Install q2-picrust2"
   ]
  },
  {
   "cell_type": "code",
   "execution_count": null,
   "metadata": {},
   "outputs": [],
   "source": [
    "%%capture\n",
    "! mamba create  -n qiime2 -c https://packages.qiime2.org/qiime2/2022.11/passed/core/ -c conda-forge -c bioconda qiime2-core -y\n",
    "! mamba install -n qiime2  q2-picrust2 -c conda-forge -c bioconda -c picrust -y"
   ]
  },
  {
   "cell_type": "markdown",
   "metadata": {},
   "source": [
    "Now that we understand each step of the PICRUSt2 pipeline we can bridge our Qiime2 and PICRUSt2 analysis via Qiimes2's PICRUSt2 plugin (q2-picrust2). This plugin allows the user to run both PICRUSt2 as part of a larger Qiime2 workflow without the need of installing the two separately. We have to re-define environment variables since we are in a different kernel."
   ]
  },
  {
   "cell_type": "markdown",
   "metadata": {},
   "source": [
    "### Assign File Paths as ENV Variables"
   ]
  },
  {
   "cell_type": "code",
   "execution_count": null,
   "metadata": {},
   "outputs": [],
   "source": [
    "%env Q2_PI_IN=qiime2_analysis/qiime2_Output/rep-seqs.qza\n",
    "%env Q2_META=Core_Dataset_Prep/sample-metadata.tsv\n",
    "%env Q2_BIOM=qiime2_analysis/qiime2_Output/table.qza\n",
    "%env Q2_PI_OUT=BioMarker_Discovery/q2-picrust2_output"
   ]
  },
  {
   "cell_type": "code",
   "execution_count": null,
   "metadata": {},
   "outputs": [],
   "source": [
    "#define number of cores to use.\n",
    "numthreads=!nproc\n",
    "numthreadsint = int(numthreads[0])\n",
    "%env CORES = $numthreadsint"
   ]
  },
  {
   "cell_type": "markdown",
   "metadata": {},
   "source": [
    "### Run the Qiime2-PICRUSt2 Pipeline"
   ]
  },
  {
   "cell_type": "markdown",
   "metadata": {},
   "source": [
    "This process is relatively the same as our PICRUSt2 step above with a few additions:\n",
    "1. **picrust2 full-pipeline** allows to run the full PICRUSt2 pipeline with one command.\n",
    "2. **feature-table summarize** summarizes the finding from the step 1 and will create visuals, histograms, and stats on how many sequences are associated with each sample and feature.\n",
    "3. **diversity core-metrics** creates non-phylogenetic diversity metrics and a feature table."
   ]
  },
  {
   "cell_type": "code",
   "execution_count": null,
   "metadata": {},
   "outputs": [],
   "source": [
    "%%bash\n",
    "source activate qiime2\n",
    "\n",
    "qiime picrust2 full-pipeline --i-table \"${Q2_BIOM}\" --i-seq \"${Q2_PI_IN}\" --output-dir \"${Q2_PI_OUT}\" --p-placement-tool epa-ng --p-threads ${CORES} --p-hsp-method pic --p-max-nsti 2 --verbose\n",
    "qiime feature-table summarize --i-table \"${Q2_PI_OUT}/pathway_abundance.qza\" --o-visualization \"${Q2_PI_OUT}/pathway_abundance.qzv\"\n",
    "qiime diversity core-metrics --i-table \"${Q2_PI_OUT}/pathway_abundance.qza\" --p-sampling-depth 226702 --m-metadata-file \"${Q2_META}\" --output-dir \"${Q2_PI_OUT}/pathabun_core_metrics_out\" --p-n-jobs 1"
   ]
  },
  {
   "cell_type": "markdown",
   "metadata": {},
   "source": [
    "<div class=\"alert alert-block alert-danger\">\n",
    "    <i class=\"fa fa-exclamation-circle\" aria-hidden=\"true\"></i>\n",
    "    <b>Alert: </b> Unfortunately Qiime2-PICRUSt2 plugin does not let you overwrite output files. If you would like to rerun this analysis again run the folowing command:\n",
    "    \n",
    "    rm -r BioMarker_Discovery/q2-picrust2_output\n",
    "    \n",
    "The plug-in will make your output directory automatically.\n",
    "</div>"
   ]
  },
  {
   "cell_type": "markdown",
   "metadata": {},
   "source": [
    "### Postprocess Data"
   ]
  },
  {
   "cell_type": "markdown",
   "metadata": {},
   "source": [
    "The **qiime tools export** tool extracts ASV tables from the qza or qzv files. **biom convert** allows you to convert file formats such as tsv that typically PICRUSt2 produces. This is great for the next submodule where one of our PICRUSt2 outputs is used to query against the Uniprot database."
   ]
  },
  {
   "cell_type": "code",
   "execution_count": null,
   "metadata": {},
   "outputs": [],
   "source": [
    "%%bash\n",
    "source activate qiime2\n",
    "\n",
    "# Export Abundance\n",
    "qiime tools export --input-path \"${Q2_PI_OUT}/pathway_abundance.qza\" --output-path \"${Q2_PI_OUT}/pathabun_exported\"\n",
    "biom convert -i \"${Q2_PI_OUT}/pathabun_exported/feature-table.biom\" -o \"${Q2_PI_OUT}/pathabun_exported/feature-table.biom.tsv\" --to-tsv\n",
    "qiime tools export --input-path \"${Q2_PI_OUT}/pathway_abundance.qzv\" --output-path \"${Q2_PI_OUT}/pathabun_qzv_exported\"\n",
    "\n",
    "# Export EC Metagenome\n",
    "qiime tools export --input-path \"${Q2_PI_OUT}/ec_metagenome.qza\" --output-path \"${Q2_PI_OUT}/ec_metagenome_exported\"\n",
    "qiime feature-table summarize --i-table \"${Q2_PI_OUT}/ec_metagenome.qza\" --o-visualization \"${Q2_PI_OUT}/ec_metagenome.qzv\"\n",
    "biom convert -i \"${Q2_PI_OUT}/ec_metagenome_exported/feature-table.biom\" -o \"${Q2_PI_OUT}/ec_metagenome_exported/feature-table.biom.tsv\" --to-tsv\n",
    "qiime tools export --input-path \"${Q2_PI_OUT}/ec_metagenome.qzv\" --output-path \"${Q2_PI_OUT}/ec_metagenome_qzv_exported\"\n",
    "\n",
    "# Export Kegg Orthologs (KO) Metagenome\n",
    "qiime tools export --input-path \"${Q2_PI_OUT}/ko_metagenome.qza\" --output-path \"${Q2_PI_OUT}/ko_metagenome_exported\"\n",
    "qiime feature-table summarize --i-table \"${Q2_PI_OUT}/ko_metagenome.qza\" --o-visualization \"${Q2_PI_OUT}/ko_metagenome.qzv\"\n",
    "biom convert -i \"${Q2_PI_OUT}/ko_metagenome_exported/feature-table.biom\" -o \"${Q2_PI_OUT}/ko_metagenome_exported/feature-table.biom.tsv\" --to-tsv\n",
    "qiime tools export --input-path \"${Q2_PI_OUT}/ko_metagenome.qzv\" --output-path \"${Q2_PI_OUT}/ko_metagenome_qzv_exported\""
   ]
  },
  {
   "cell_type": "code",
   "execution_count": null,
   "metadata": {},
   "outputs": [],
   "source": [
    "#run the following command to take the quiz!\n",
    "from IPython.display import IFrame\n",
    "IFrame(\"../Quiz/QS14.html\", width=800, height=350)"
   ]
  },
  {
   "cell_type": "markdown",
   "metadata": {},
   "source": [
    "\n",
    "## Conclusion"
   ]
  },
  {
   "cell_type": "markdown",
   "metadata": {},
   "source": [
    "In this submodule you learned how to extract microbiome biomarker using several computational tools and machine learning pre-trained model. You learned using the Qiime output to predict relevant protein and pathways from 16s dataset using PICRUSt2 pre-trained machine learning model."
   ]
  },
  {
   "cell_type": "markdown",
   "metadata": {},
   "source": [
    "## Clean up\n",
    "\n",
    "Remember to stop your notebook instance when you are done!"
   ]
  }
 ],
 "metadata": {
  "kernelspec": {
   "display_name": "PPPPP (Local)",
   "language": "python",
   "name": "picrust2"
  },
  "language_info": {
   "codemirror_mode": {
    "name": "ipython",
    "version": 3
   },
   "file_extension": ".py",
   "mimetype": "text/x-python",
   "name": "python",
   "nbconvert_exporter": "python",
   "pygments_lexer": "ipython3",
   "version": "3.8.19"
  }
 },
 "nbformat": 4,
 "nbformat_minor": 4
}
