{
 "cells": [
  {
   "cell_type": "markdown",
   "id": "43eac1f6-04cb-46d9-bb7a-8ac58c71e455",
   "metadata": {},
   "source": [
    "# MicrobiomeAnalystR [optional]"
   ]
  },
  {
   "cell_type": "markdown",
   "id": "1cdbe441-5d6e-46fc-bee2-bc7ce6d3b77d",
   "metadata": {},
   "source": [
    "MicrobiomeAnalystR is an R-based alternative to running Qiime2 and PICRUSt2 from the command line. It is an R wrapper for the GUI [MicrobiomeAnalyst](https://www.microbiomeanalyst.ca/). MicrobiomeAnalystR is still in the beta stage of development, so we present this option primarily as a means of seeing how the pipeline might work in an R environment rather than as a best practice for your own research data.\n",
    "\n",
    "The workflow below is comprised of four modules. The first is the Marker Data Profiling (MDP) module that is designed for analysis of 16S rRNA marker gene survey data. The second is the Shotgun Data Profiling (SDP) module that contains functions for analyzing metagenomics or metatranscriptomics data. The third module, the Taxon Set Enrichment Analysis (TSEA), is designed to test whether there are biologically or ecologically meaningful patterns from a given list of taxa of interest. Finally, the Projection with Public Data (PPD) module allows users to visually compare their data with our collection of curated public datasets for novel patterns or biological insights."
   ]
  },
  {
   "cell_type": "markdown",
   "id": "3bb7304c-d1d1-4057-8bdd-7e9f2564192d",
   "metadata": {},
   "source": [
    "<div class=\"alert alert-block alert-danger\">\n",
    "    <i class=\"fa fa-exclamation-circle\" aria-hidden=\"true\"></i>\n",
    "    <b>Alert: </b> MicrobiomeAnalystR you guessed it is a R package! To run this package we will need to <b>switch to the R kernel</b> the same way we switched it from Python 3 to qiime2-2022.2.\n",
    "</div>"
   ]
  },
  {
   "cell_type": "markdown",
   "id": "3a49f857-71e6-4328-aae5-636c044e22d7",
   "metadata": {},
   "source": [
    "We will be running the MDP, SDP, and PPD modules but first we will need to load in our input data from this modules bucket via systems() command which will allow us to run bash commands in R. Then we can create our output directory. \n",
    "\n",
    "The reason we are using different input data for this package is because the inputs differ in format compared to Qiime2. For more information visit https://www.microbiomeanalyst.ca/MicrobiomeAnalyst/docs/DataFormat.xhtml"
   ]
  },
  {
   "cell_type": "code",
   "execution_count": null,
   "id": "8395e7be-2059-4998-b4f0-9c46e4444127",
   "metadata": {},
   "outputs": [],
   "source": [
    "#download input files from bucket\n",
    "system(\"gsutil -m cp -r gs://nigms-sandbox/nosi-usd-biofilms/MicrobiomeAR_Inputs 4_BioMarker_Discovery/\", intern = TRUE)\n",
    "#Create our output directory\n",
    "dir.create(\"./3_Microbiome_Analysis/MicrobiomeAR_Outputs\")"
   ]
  },
  {
   "cell_type": "markdown",
   "id": "40b33f09-8019-4c2e-86bd-5e85b01cfda1",
   "metadata": {},
   "source": [
    "For this analysis our output directory will work as our working directory to store all data files from the MDP analysis. We will also create some additional directories that will hold images and figures from each analysis."
   ]
  },
  {
   "cell_type": "code",
   "execution_count": null,
   "id": "350ca7d2-d053-4d90-831c-dd00ad08c2d4",
   "metadata": {},
   "outputs": [],
   "source": [
    "#set working directory\n",
    "setwd(\"/home/jupyter/MetagenomicsUSD/4_BioMarker_Discovery/MicrobiomeAR_Inputs/\")"
   ]
  },
  {
   "cell_type": "code",
   "execution_count": null,
   "id": "ae861b0d-e94d-40e0-9960-d15d16cf3206",
   "metadata": {},
   "outputs": [],
   "source": [
    "#Creating output directories for images and graphs\n",
    "dir.create(\"./mdp\")\n",
    "dir.create(\"./spd\")\n",
    "dir.create(\"./ppd\")"
   ]
  },
  {
   "cell_type": "code",
   "execution_count": null,
   "id": "1ed11a61-2596-4bbe-8dbc-10286ef699fe",
   "metadata": {},
   "outputs": [],
   "source": [
    "#load in the packages\n",
    "library(MicrobiomeAnalystR)\n",
    "library(dplyr)"
   ]
  },
  {
   "cell_type": "markdown",
   "id": "678c1ac1-06cf-42c6-aed8-d2be52e3800e",
   "metadata": {},
   "source": [
    "#### Setting up MicrobiomeAnalyst R MDP module"
   ]
  },
  {
   "cell_type": "code",
   "execution_count": null,
   "id": "dd3f5a6a-e6ed-41b2-84e8-a0c1a72c91e4",
   "metadata": {},
   "outputs": [],
   "source": [
    "processMdp<- function()\n",
    "{\n",
    "  mbSet<-Init.mbSetObj()\n",
    "  mbSet<-SetModuleType(mbSet, \"mdp\")\n",
    "  \n",
    "  \n",
    "  taxa_type<-\"Greengenes\" \n",
    "  format<- \"text\"\n",
    "  \n",
    "  #file location\n",
    "  file_location<-\"../MicrobiomeAR_Inputs/mdp/\"\n",
    "  save_location<-\"./MicrobiomeAR_Outputs/mdp/\"\n",
    "  \n",
    "  #Read16SAbundData(mbSetObj, dataName, format, taxa_type, ismetafile)\n",
    "  #input data\n",
    "  mbSet<-Read16SAbundData(mbSet,paste0(file_location,\"ibd_asv_table.txt\"), format, taxa_type,is.normalized = \"T\");\n",
    "  mbSet<-ReadSampleTable(mbSet,paste0(file_location,\"ibd_meta.csv\"));\n",
    "  mbSet<-Read16STaxaTable(mbSet,paste0(file_location,\"ibd_taxa.txt\") );\n",
    "  \n",
    "  #processing\n",
    "  mbSet<-SanityCheckData(mbSet, \"text\");\n",
    "  mbSet<-PlotLibSizeView(mbSet, \"norm_libsizes_0\",\"png\");\n",
    "  mbSet<-CreatePhyloseqObj(mbSet, taxalabel = \"text\",taxa_type = taxa_type,isNormInput = \"F\")\n",
    "  mbSet<-ApplyAbundanceFilter(mbSet, \"prevalence\", 4, 0.2);\n",
    "  mbSet<-ApplyVarianceFilter(mbSet, \"iqr\", 0.1);\n",
    "  mbSet<-PerformNormalization(mbSet, \"none\", \"colsum\", \"none\")\n",
    "  \n",
    "  \n",
    "  #####Visual exploration\n",
    "  ##Stacked bar/area plot\n",
    "  print(\"stacked bar/area plot started\")\n",
    "  mbSet<-PlotTaxaAundanceBar(mbSet, paste0(save_location,\"taxa_alpha_0\"),\"Genus\",\"Class\", \"null\", \"barraw\",10, \"set3\",\"sum\",10, \"bottom\", \"F\", \"png\")\n",
    "  print(\"stacked bar/area plot output created\")\n",
    "  \n",
    "  # Interactiv Pie chart\n",
    "  mbSet<-PlotOverallPieGraph(mbSet, \"Phylum\", 10,\"sum\", 10, \"bottom\")\n",
    "  GetSeriesColors()\n",
    "  mbSet<-SavePiechartImg(mbSet, \"Phylum\",paste0(save_location,\"primary_piechart_0\"),\"png\")\n",
    "  print(\"Interactiv Pie chart output created\")\n",
    "  \n",
    "  #Rarefaction Curve\n",
    "  mbSet<-PlotRarefactionCurve(mbSet, \"filt\",\"Class\",\"Class\",\"Class\",\"5\",paste0(save_location,\"rarefaction_curve_0\"),\"png\");\n",
    "  print(\"Rarefaction Curve output created\")\n",
    "  \n",
    "  ###Community profiling\n",
    "  #Alpha-diversity analysis\n",
    "  paste0(save_location,\"alpha_diverbox_0\")\n",
    "  mbSet<-PlotAlphaData(mbSet, \"filt\",  paste0(save_location,\"alpha_diver_0\"),\"Chao1\",\"Class\",\"Genus\", \"default\", \"png\");\n",
    "  mbSet<-PlotAlphaBoxData(mbSet, paste0(save_location,\"alpha_diverbox_0\"),\"Chao1\",\"Class\",\"default\", \"png\");\n",
    "  mbSet<-PerformAlphaDiversityComp(mbSet, \"tt\",\"Class\");\n",
    "  print(\"Alpha-diversity analysis output created\")\n",
    "  \n",
    "  #Beta-diversity analysis\n",
    "  \n",
    "  \n",
    "\n",
    "  mbSet<-PlotBetaDiversity(mbSet, paste0(save_location,\"beta_diver_1\"), ordmeth=\"PCoA\", distName=\"bray\", colopt=\"expfac\", metadata=\"Class\",\n",
    "                           showlabel=\"none\", taxrank=\"Genus\", taxa=\"null\", alphaopt=\"Chao1\", ellopt=\"yes\", format=\"png\",\n",
    "                           dpi=72, custom_col=\"viridis\");\n",
    "  \n",
    "  mbSet<-PCoA3D.Anal(mbSet, \"PCoA\",\"bray\",\"Genus\",\"expfac\",\"Class\",\"g__Bacteroides\",\"Chao1\",paste0(save_location,\"beta_diver3d_1.json\")) \n",
    "  mbSet<-PerformCategoryComp(mbSet, \"Genus\", \"adonis\",\"bray\",\"Class\");\n",
    "  print(\"Beta-diversity analysis output created\")\n",
    "  \n",
    "  #Core microbiome analysis \n",
    "  mbSet<-CoreMicrobeAnalysis(mbSet, paste0(save_location,\"core_micro_0\"),0.2,0.01,\"OTU\",\"bwm\",\"overview\", \"all_samples\", \"Class\", \"CD\", \"png\");\n",
    "  print(\"Core microbiome analysis output created\")\n",
    "  \n",
    "  ###Clustering & correlation\n",
    "  #Heat-map clustering\n",
    "  mbSet<-PlotHeatmap(mbSet, paste0(save_location,'heatmap_0'),\"euclidean\",\"ward.D\",\"bwm\",\"Class\",\"Genus\",\"overview\",\"F\", \"png\",\"T\",\"T\",\"8.0\",\"8.0\",\"F\");\n",
    "  print(\"Heat-map clustering output created\")\n",
    "  \n",
    "  #Dendrogram analysis\n",
    "  mbSet<-PlotTreeGraph(mbSet,  paste0(save_location,'plot_tree_0'),\"bray\",\"ward.D\",\"Class\",\"Genus\", \"default\", \"png\");\n",
    "  print(\"Dendrogram analysis output created\")\n",
    "  \n",
    "  #Pattern search\n",
    "  mbSet<-FeatureCorrelation(mbSet, \"pearson\", \"Genus\", \"g__Bacteroides\")\n",
    "  mbSet<-PlotCorr(mbSet, paste0(save_location,'ptn_0'),\"png\", width=NA)\n",
    "  print(\"Pattern search output created\")\n",
    "  \n",
    "  ###Comparison & classification\n",
    "  \n",
    "  #Univariate analysis\n",
    "  \n",
    "  mbSet<-PerformUnivarTest(mbSet, \"Class\",0.05,\"NA\",\"Genus\",\"tt\")\n",
    "  mbSet<-PerformMetagenomeSeqAnal(mbSet, \"Class\",0.05,\"NA\",\"Genus\",\"zigfit\")\n",
    " \n",
    "  \n",
    "  print(\"LEfse output created\")\n",
    "  \n",
    "  #Random Forest\n",
    "  \n",
    "  mbSet<-RF.Anal(mbSet, 500,7,1,\"Class\",\"Genus\")\n",
    "  mbSet<-PlotRF.Classify(mbSet, 15, paste0(save_location,'rf_cls_0'),\"png\", width=NA)\n",
    "  mbSet<-PlotRF.VIP(mbSet, 15, paste0(save_location,'rf_imp_0'),\"png\", width=NA)\n",
    "  print(\"Random Forest output created\")\n",
    "  \n",
    "\n",
    "  print(\"MDP Completed\")\n",
    "  \n",
    " \n",
    "}"
   ]
  },
  {
   "cell_type": "markdown",
   "id": "17eb8520-7339-4dfc-98f1-4c3701d204bf",
   "metadata": {},
   "source": [
    "#### Settting up MicrobiomeAnalyst R SDP module"
   ]
  },
  {
   "cell_type": "code",
   "execution_count": null,
   "id": "fa019fdc-941f-4952-8177-7331f6d2ef1f",
   "metadata": {},
   "outputs": [],
   "source": [
    "processSDP<- function()\n",
    "{\n",
    "  #file locations\n",
    "  file_location<-\"../MicrobiomeAR_Inputs/sdp/\"\n",
    "  save_location<-\"./MicrobiomeAR_Outputs/sdp/\"\n",
    "  \n",
    "  mbSet<-Init.mbSetObj()\n",
    "  mbSet<-SetModuleType(mbSet, \"sdp\")\n",
    "  mbSet<-ReadShotgunTabData(mbSet,paste0(file_location,\"ko_mouse_sdp.csv\"),\"ko\");\n",
    "  mbSet<-ReadSampleTable(mbSet, paste0(file_location,\"mouse_metadata_sdp.csv\") );\n",
    "  mbSet<-SanityCheckData(mbSet, \"text\");\n",
    "  mbSet<-PlotLibSizeView(mbSet, \"norm_libsizes_0\",\"png\");\n",
    "  mbSet<-CreatePhyloseqObj(mbSet, \"text\",\"na\",\"F\")\n",
    "  mbSet<-ApplyAbundanceFilter(mbSet, \"prevalence\", 4, 0.2);\n",
    "  mbSet<-ApplyVarianceFilter(mbSet, \"iqr\", 0.1);\n",
    "  mbSet<-PerformNormalization(mbSet, \"none\", \"CSS\", \"none\");\n",
    "  \n",
    "  #Clustering analysis\n",
    "  #Heatmap Clustering\n",
    "  mbSet<-PlotHeatmap(mbSet, paste0(save_location,\"heatmap_0\"),\"euclidean\",\"ward.D\",\"bwm\",\"Age\",\"OTU\",\"overview\",\"F\", \"png\",\"T\",\"T\",\"8.0\",\"8.0\",\"F\");\n",
    "  \n",
    "  mbSet<-PlotTreeGraph(mbSet, paste0(save_location,\"plot_tree_0\"),\"bray\",\"ward.D\",\"Age\",\"OTU\", \"default\", \"png\");\n",
    "  \n",
    "  mbSet<-PreparePCA4Shotgun(mbSet, paste0(save_location,\"pca3d_0.json\"),\n",
    "                            paste0(save_location,\"pca_2D_0\"), \"json\", 1,2,3,\"Age\",\"none\", \"png\")\n",
    "  \n",
    "  mbSet<-Match.Pattern(mbSet, \"pearson\", \"1-2-3\", \"OTU\", \"Age\")\n",
    "  mbSet<-PlotCorr(mbSet,  paste0(save_location,\"ptn_0\"), \"png\", width=NA)\n",
    "\n",
    "  #Differential Analysis\n",
    "  \n",
    "  #biomaker analysis\n",
    "  mbSet<-PerformLefseAnal(mbSet, 0.1, \"fdr\", 2.0, \"Age\",\"F\",\"ko\",\"OTU\");\n",
    "  mbSet<-PlotLEfSeSummary(mbSet, 15, \"dot\", paste0(save_location,\"bar_graph_sdp_0\"),\"png\");\n",
    "\n",
    "  mbSet<-RF.Anal(mbSet, 500,7,1,\"Age\",\"OTU\")\n",
    "  mbSet<-PlotRF.Classify(mbSet, 15, paste0(save_location,\"rf_cls_sdp_0\"),\"png\", width=NA)\n",
    "  mbSet<-PlotRF.VIP(mbSet, 15, paste0(save_location,\"rf_imp_sdp_0\"),\"png\", width=NA)\n",
    "  \n",
    "  \n",
    "  print(\"SDP Completed\")\n",
    "  \n",
    "}"
   ]
  },
  {
   "cell_type": "markdown",
   "id": "63fa7e10-3dfe-4ab6-bcb9-3c1dab6827c3",
   "metadata": {},
   "source": [
    "#### Setting up MicrobiomeAnalyst R PPD module"
   ]
  },
  {
   "cell_type": "code",
   "execution_count": null,
   "id": "d8128fa6-68a3-430b-b1ad-af52dfc32462",
   "metadata": {},
   "outputs": [],
   "source": [
    "processPPD<- function()\n",
    "{\n",
    "  #file locations\n",
    "  file_location<-\"../MicrobiomeAR_Inputs/ppd/\"\n",
    "  save_location<-\"./MicrobiomeAR_Outputs/ppd/\"\n",
    "  \n",
    "  \n",
    "mbSet<-Init.mbSetObj()\n",
    "mbSet<-SetModuleType(mbSet, \"ppd\")\n",
    "mbSet<-Read16SAbundData(mbSet, paste0(file_location,\"atherosclerosis.txt\"),\"text\",\"GreengenesID\",\"T\");\n",
    "mbSet<-ReadSampleTable(mbSet, paste0(file_location,\"athero_sample.txt\") );\n",
    "mbSet<-Read16STaxaTable(mbSet, paste0(file_location,\"atherotax.txt\"));\n",
    "mbSet<-SanityCheckData(mbSet, \"text\");\n",
    "\n",
    "mbSet<-PlotLibSizeView(mbSet, paste0(save_location,\"norm_libsizes_0\"),\"png\");\n",
    "mbSet<-CreatePhyloseqObj(mbSet, \"text\",\"GreengenesID\",\"F\")\n",
    "mbSet<-PerformRefDataMapping(mbSet, \"costello_gut\",\"GreengenesID\",\"CLASS\",\"Human Gut\");\n",
    "mbSet<-PrepareMergedData(mbSet, \"CLASS\",\"perc_feat\");\n",
    "mbSet<-PCoA3DAnal.16SRef(mbSet, paste0(save_location,\"ppd_pcoa_0\") ,\"PCoA\",\"bray\",\"Genus\", \"CLASS\")\n",
    "\n",
    "print(\"PPD Completed\")\n",
    "}"
   ]
  },
  {
   "cell_type": "markdown",
   "id": "b67ef06c-73fc-4a87-b4d6-c51c4ac108a0",
   "metadata": {},
   "source": [
    "Now that we have step up all three processes we can execute them."
   ]
  },
  {
   "cell_type": "code",
   "execution_count": null,
   "id": "643beb41-ea13-42ef-95f7-ef003174b7a7",
   "metadata": {},
   "outputs": [],
   "source": [
    "processMdp()\n",
    "processSDP()\n",
    "processPPD()"
   ]
  },
  {
   "cell_type": "markdown",
   "id": "72574a3a-f57b-4966-bbbe-31ce6f1b7f66",
   "metadata": {},
   "source": [
    "Using microbiome diversity from previous submodule and related sequences, you learned to run a downstream analysis with MicrobeAnalystR to gene/protein markers significantly differentially express between 2 or more experimental condition using SDP (Shotgun Data Profiling) function.   "
   ]
  }
 ],
 "metadata": {
  "kernelspec": {
   "display_name": "R",
   "language": "R",
   "name": "ir"
  },
  "language_info": {
   "codemirror_mode": "r",
   "file_extension": ".r",
   "mimetype": "text/x-r-source",
   "name": "R",
   "pygments_lexer": "r",
   "version": "4.2.3"
  }
 },
 "nbformat": 4,
 "nbformat_minor": 5
}
