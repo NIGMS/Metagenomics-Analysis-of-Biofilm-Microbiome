{
 "cells": [
  {
   "cell_type": "markdown",
   "id": "aecd973d-b316-4652-b0fe-a6238354fa3b",
   "metadata": {},
   "source": [
    "# Metagenome analysis with QIIME 2\n",
    "\n",
    "QIIME2 Tutorial\n",
    "https://cap-lab.bio/q2-books/01-sra-data-access.html\n",
    "\n",
    "SRA Data\n",
    "https://www.ncbi.nlm.nih.gov/bioproject/?term=PRJEB52339"
   ]
  },
  {
   "cell_type": "markdown",
   "id": "a58280f5-60b7-4382-aefe-199ceed6b3d3",
   "metadata": {},
   "source": [
    "## Setup\n",
    "https://docs.qiime2.org/2024.2/install/native/#qiime-2-metagenome-distribution\n",
    "\n",
    "You can install the latest distribution of the QIIME 2 metagenome distribution by following the instructions here. Once installed, you can activate the environment by running the following command\n",
    "```\n",
    "wget https://data.qiime2.org/distro/shotgun/qiime2-shotgun-2024.2-py38-linux-conda.yml\n",
    "conda env create -n qiime2-shotgun-2024.2 --file qiime2-shotgun-2024.2-py38-linux-conda.yml\n",
    "conda activate qiime2-shotgun-2024.2\n",
    "```"
   ]
  },
  {
   "cell_type": "markdown",
   "id": "0aff726d-796e-4889-afed-6e8c15fb3a42",
   "metadata": {},
   "source": [
    "## Directory structure\n",
    "Below you can see the directory structure that we will use throughout this tutorial:\n",
    "```\n",
    "<your working directory>\n",
    "├── moshpit_tutorial\n",
    "│   ├── cache\n",
    "│   ├── results\n",
    "```\n",
    "Once you decided on the location of your working directory, let’s create the results subdirectory by running the following command:"
   ]
  },
  {
   "cell_type": "code",
   "execution_count": null,
   "id": "f7f25401-1a13-48bd-818b-d10fe5ac02e7",
   "metadata": {},
   "outputs": [],
   "source": [
    "!mkdir -p moshpit_tutorial/results\n",
    "#Next, we create the cache subdirectory (this is where majority of the data will be written to by QIIME 2)\n",
    "#We will be saving all the artifacts into that QIIME cache and all the final visualizations and tables into the results directory. If you want to read more about the QIIME cache, you can do so here.\n",
    "!qiime tools cache-create --cache ./moshpit_tutorial/cache"
   ]
  },
  {
   "cell_type": "markdown",
   "id": "6840721e-3dc0-43f5-b4d7-fc0301beb78e",
   "metadata": {},
   "source": [
    "## Required databases\n",
    "In order to perform the taxonomic and functional annotation, we will need a couple of different reference databases. Below you will find instructions on how to download these databases using respective QIIME 2 actions.\n",
    "\n",
    "### Kraken 2/Bracken database"
   ]
  },
  {
   "cell_type": "code",
   "execution_count": null,
   "id": "0756af40-d08a-4cb0-ab66-54f71ac20aec",
   "metadata": {},
   "outputs": [],
   "source": [
    "!qiime moshpit build-kraken-db \\\n",
    "    --p-collection standard \\\n",
    "    --o-kraken2-database ./moshpit_tutorial/cache:kraken_standard \\\n",
    "    --o-bracken-database ./moshpit_tutorial/cache:bracken_standard \\\n",
    "    --verbose"
   ]
  },
  {
   "cell_type": "markdown",
   "id": "523fce71-205e-4584-a88d-c55c5e422554",
   "metadata": {},
   "source": [
    "### EggNOG databases"
   ]
  },
  {
   "cell_type": "code",
   "execution_count": null,
   "id": "387a3aed-e41d-4c57-8d97-a7e2c9e327e6",
   "metadata": {},
   "outputs": [],
   "source": [
    "!qiime moshpit fetch-diamond-db \\\n",
    "    --o-diamond-db ./moshpit_tutorial/cache:eggnog_diamond_full \\\n",
    "    --verbose\n",
    "\n",
    "!qiime moshpit fetch-eggnog-db \\\n",
    "    --o-eggnog-db ./moshpit_tutorial/cache:eggnog_annot_full \\\n",
    "    --verbose"
   ]
  },
  {
   "cell_type": "markdown",
   "id": "559d1bac-bc78-46d5-a6e6-b320208c2bc9",
   "metadata": {},
   "source": [
    "## Data retrieval from SRA\n",
    "Find the bioproject with below link. Enter the BioProject ID in search box\n",
    "https://www.ncbi.nlm.nih.gov/Traces/study/\n",
    "\n",
    "(e.g. https://www.ncbi.nlm.nih.gov/Traces/study/?acc=PRJEB52339&o=acc_s%3Aa)\n",
    "\n",
    "On total row, click on download metadata and accession list. SraRunTable.txt and SRR_Acc_List.txt will be downloaded.\n",
    "### Generate ids.tsv file\n",
    "ids.tsv file only have \"id\" column include all accession ids. "
   ]
  },
  {
   "cell_type": "code",
   "execution_count": null,
   "id": "d0a30120-8d50-4953-80d8-df1333126b34",
   "metadata": {},
   "outputs": [],
   "source": [
    "# Open the original file to read its contents\n",
    "with open('SRR_Acc_List.txt', 'r') as file:\n",
    "    # Read all lines from the file\n",
    "    lines = file.readlines()\n",
    "\n",
    "# Open the new file in write mode and add \"id\" at the first line\n",
    "with open('ids.tsv', 'w') as file:\n",
    "    # Write \"id\" followed by a newline character at the beginning\n",
    "    file.write(\"id\\n\")\n",
    "    \n",
    "    # Write the original content after \"id\"\n",
    "    file.writelines(lines)"
   ]
  },
  {
   "cell_type": "code",
   "execution_count": null,
   "id": "ee2de8b0-5b60-485e-b229-46b858c70d01",
   "metadata": {},
   "outputs": [],
   "source": [
    "# Import the accession IDs into a QIIME 2 artifact\n",
    "!qiime tools import \\\n",
    "  --type NCBIAccessionIDs \\\n",
    "  --input-path ids.tsv \\ \n",
    "  --output-path ./moshpit_tutorial/ids.qza"
   ]
  },
  {
   "cell_type": "markdown",
   "id": "df932e37-0d32-4979-a624-c4e7ad40101b",
   "metadata": {},
   "source": [
    "Finally, we can use the get-all action to download the data.\n",
    "\n",
    "More detail https://github.com/bokulich-lab/q2-fondue/blob/main/tutorial/tutorial.md"
   ]
  },
  {
   "cell_type": "code",
   "execution_count": null,
   "id": "074b3625-d0bc-4189-8201-d4110a7a30ac",
   "metadata": {},
   "outputs": [],
   "source": [
    "!qiime fondue get-all \\ \n",
    "      --i-accession-ids ./moshpit_tutorial/ids.qza \\\n",
    "      --p-email your.email@custom.com \\\n",
    "      --p-retries 3 \\\n",
    "      --verbose \\\n",
    "      --use-cache ./moshpit_tutorial/cache \\\n",
    "      --output-dir fondue-output"
   ]
  },
  {
   "cell_type": "markdown",
   "id": "2493e66f-0271-4c9c-a392-5fc6a3703f44",
   "metadata": {},
   "source": [
    "This will download all the sequences into the QIIME 2 cache. It is a lot of data, so keep in mind that depending on your network speed, this might take a while. Once the data is downloaded, you can proceed to one (or more) of the following steps:\n",
    " - Annotation of reads\n",
    " - Generation and annotation of contigs"
   ]
  },
  {
   "cell_type": "markdown",
   "id": "797a857e-0de3-4adf-b2b2-94f6d9816d92",
   "metadata": {},
   "source": [
    "## Annotation of reads"
   ]
  },
  {
   "cell_type": "markdown",
   "id": "b7e4b216-4196-4dea-a14b-bf4ab8259bc1",
   "metadata": {},
   "source": [
    "### Read Taxonomic Annotation\n",
    "With metagenomic data, our first step of our analysis is to run Kraken.\n",
    "\n",
    "This will give us taxonomic annotations for our reads and from this there, we can create our feature table that we will use for the rest of the analysis\n",
    "\n",
    "In this command, we have loaded all of our inputs into cache, this saves time unzipping, reading, and writing them into memory. We are also writing our outputs directly to Artifact Cache, this similarly saves time for writing the files out and zipping them into .qza\n",
    "\n",
    "We have found that its most effective to keep your artifacts in cache until after you have a feature table due to the size of this data."
   ]
  },
  {
   "cell_type": "code",
   "execution_count": null,
   "id": "c43c1ef1-eea7-4402-a92d-9227d6418786",
   "metadata": {},
   "outputs": [],
   "source": [
    "!qiime moshpit classify-kraken2 \\\n",
    "\t--i-seqs ./fondue-output/paired_reads.qza \\\n",
    "\t--i-kraken2-db ./moshpit_tutorial/cache:kraken_standard \\\n",
    "\t--p-threads 40 \\\n",
    "\t--p-confidence 0.6 \\\n",
    "\t--p-minimum-base-quality 20 \\\n",
    "\t--o-hits ./moshpit_tutorial/cache:workshop_kraken_db_hits \\\n",
    "\t--o-reports ./moshpit_tutorial/cache:workshop_kraken_db_reports \\\n",
    "\t--p-report-minimizer-data \\\n",
    "\t--use-cache ./moshpit_tutorial/cache \\\n",
    "    \t--verbose"
   ]
  },
  {
   "cell_type": "markdown",
   "id": "96f4588b-c8fb-4453-8a2c-3d1256c6c65c",
   "metadata": {},
   "source": [
    "At this point we have kraken reports and hits.\n",
    "\n",
    "Reports are per sample tab seperated files that contain read information per line. Hits are per sample tab seperated files that contain taxon information per line\n",
    "\n",
    "Hits contain read information on each line: U/C based on if the read was classified or not, the read id as seen in the fastq header,Taxonomic ID(or 0 if unclassified), The length of the sequences, amd list of LCA mappings of each k-mer (which indicates what k-mers mapped to which taxonomic annotations).\n",
    "\n",
    "Reports contain taxon information on each line: Percentage of fragments covered by the clade root, number of fragments covered by clade root, Number of fragments assigned directly to this taxon, a rank code: indicating (U)nclassified, (R)oot, (D)omain, (K)ingdom, (P)hylum, (C)lass, (O)rder, (F)amily, (G)enus, or (S)pecies, NCBI taxonomic ID number, and taxonomic annotation. Change the level base on the data using --p-level parameter (https://forum.qiime2.org/t/q2-shotgun-bracken-error/29171)\n",
    "\n",
    "For more information on Kraken outputs, visit the Kraken Manual!\n",
    "\n",
    "Bracken uses a Bracken database, the length of your reads and the kraken reports to give you a feature-table[Frequency]"
   ]
  },
  {
   "cell_type": "code",
   "execution_count": null,
   "id": "629706a3-f31a-467d-b034-da717ab9ed98",
   "metadata": {},
   "outputs": [],
   "source": [
    "!qiime moshpit estimate-bracken \\\n",
    "    --i-bracken-db ./moshpit_tutorial/cache:bracken_standard \\\n",
    "    --p-read-len 100 \\\n",
    "    --i-kraken-reports ./moshpit_tutorial/cache:workshop_kraken_db_reports \\\n",
    "    --o-reports ./moshpit_tutorial/kraken-outputs/bracken-reports.qza \\\n",
    "    --o-taxonomy ./moshpit_tutorial/kraken-outputs/taxonomy-bracken.qza \\\n",
    "    --p-level P \\ \n",
    "    --o-table ./moshpit_tutorial/kraken-outputs/table-bracken.qza"
   ]
  },
  {
   "cell_type": "markdown",
   "id": "8ae7d2cb-4c09-41bd-9c1e-c9de87c12030",
   "metadata": {},
   "source": [
    "### Filtering Feature Table and Normalization\n",
    "Once we have feature table, this is becomes alot more similar to the amplicon workflow of QIIME 2.\n",
    "\n",
    "In this tutorial, we’re going to work specifically with samples that were included in the autoFMT randomized trial. Many of these subjects dropped out before randomization (placing the subject into FMT group or Control group) and therefore do not have a value in the autoFmtGroup.\n",
    "\n",
    "We need to filter our feature table to contain samples that were in the autoFMT study by filtering out any samples that are null in the metadata column autoFmtGroup."
   ]
  },
  {
   "cell_type": "code",
   "execution_count": null,
   "id": "aee487d4-3427-4424-b3b5-98fa6e98956b",
   "metadata": {},
   "outputs": [],
   "source": [
    "!qiime feature-table filter-samples \\\n",
    "  --i-table ./moshpit_tutorial/kraken-outputs/table-bracken.qza \\\n",
    "  --m-metadata-file ./new-sample-metadata.tsv \\\n",
    "  --o-filtered-table autofmt-table.qza"
   ]
  },
  {
   "cell_type": "markdown",
   "id": "d53f2011-e9dc-40ae-9756-13053b8388f8",
   "metadata": {},
   "source": [
    "For this tutorial, to normalization our data we will generate a relative-frequency table."
   ]
  },
  {
   "cell_type": "code",
   "execution_count": null,
   "id": "8dfe13f1-87e3-4db6-8134-a9794af893b4",
   "metadata": {},
   "outputs": [],
   "source": [
    "!qiime feature-table relative-frequency \\\n",
    "    --i-table autofmt-table.qza \\\n",
    "\t--o-relative-frequency-table autofmt-table-rf.qz"
   ]
  },
  {
   "cell_type": "markdown",
   "id": "303b45df-5088-4677-9882-aebfa95f7a82",
   "metadata": {},
   "source": [
    "### Alpha diversity\n",
    "First we’ll look for general patterns, by comparing different categorical groupings of samples to see if there is some relationship to richness.\n",
    "\n",
    "To start with, we’ll gernate an ‘observed features’ vector from our relative frequency table:"
   ]
  },
  {
   "cell_type": "code",
   "execution_count": null,
   "id": "2ac82cb1-41bb-40d7-980a-48d04c84d5e0",
   "metadata": {},
   "outputs": [],
   "source": [
    "!qiime diversity alpha \\\n",
    "    --i-table autofmt-table-rf.qz.qza \\\n",
    "    --p-metric \"observed_features\" \\\n",
    "    --o-alpha-diversity obs-autofmt-bracken-rf"
   ]
  },
  {
   "cell_type": "markdown",
   "id": "62624748-fa05-43da-be57-e932470b738e",
   "metadata": {},
   "source": [
    "The first thing to notice is the high variability in each individual’s richness (PatientID). The centers and spreads of the individual distributions are likely to obscure other effects, so we will want to keep this in mind. Additionally, we have repeated measures of each individual, so we are violating independence assumptions when looking at other categories. (Kruskal-Wallis is a non-parameteric test, but like most tests, still requires samples to be independent.)\n",
    "\n",
    "Keeping in mind that other categories are probably inconclusive, we notice that there are (amusingly, and somewhat reassuringly) differences in stool consistency (solid vs non-solid).\n",
    "\n",
    "Because these data were derived from a study in which participants recieved auto-fecal microbiota transplant, we may also be interested in whether there was a difference in richness between the control group and the auto-FMT goup.\n",
    "\n",
    "Looking at autoFmtGroup we see that there is no apparent difference, but we also know that we are violating independence with our repeated measures, and all patients recieved a bone-marrow transplant which may be a stronger effect. (The goal of the auto-FMT was to mitigate the impact of the marrow transplant.)\n",
    "\n",
    "We will use a more advanced statistical model to explore this question."
   ]
  },
  {
   "cell_type": "code",
   "execution_count": null,
   "id": "06bed5c7-f6b8-434d-8fa2-af47defa6a9a",
   "metadata": {},
   "outputs": [],
   "source": [
    "!qiime diversity alpha-group-significance \\\n",
    "    --i-alpha-diversity obs-autofmt-bracken-rf.qza \\\n",
    "    --m-metadata-file ./new-sample-metadata.tsv \\\n",
    "    --o-visualization obs-table-bracken-rf-group-sig.qzv"
   ]
  },
  {
   "cell_type": "markdown",
   "id": "ba87c486-87bd-44d7-8bdf-b96404a3aed2",
   "metadata": {},
   "source": [
    "### Beta Diversity\n",
    "Now that we better understand community richness trends, lets look at differences in microbial composition.\n",
    "\n",
    "Let investigate this by looking at Bray Curtis:"
   ]
  },
  {
   "cell_type": "code",
   "execution_count": null,
   "id": "f69d37c0-1cb6-450f-845a-f39a668c4dcf",
   "metadata": {},
   "outputs": [],
   "source": [
    "!qiime diversity beta \\\n",
    "  --i-table autofmt-table-rf.qz.qza \\\n",
    "  --p-metric braycurtis \\\n",
    "  --o-distance-matrix braycurtis-autofmt"
   ]
  },
  {
   "cell_type": "markdown",
   "id": "dd549203-df67-45f4-b769-d188babe0242",
   "metadata": {},
   "source": [
    "### Emperor Plot Creation\n",
    "Now that we have our Bray Curtis distance matrix, lets visualize this using a PCOA plot."
   ]
  },
  {
   "cell_type": "code",
   "execution_count": null,
   "id": "27bb04dd-92b6-46ed-b710-41e7111109f5",
   "metadata": {},
   "outputs": [],
   "source": [
    "!qiime diversity pcoa \\\n",
    "  --i-distance-matrix braycurtis-autofmt.qza \\\n",
    "  --o-pcoa pcoa-braycurtis-auto-fmt.qza \\\n",
    "  --verbose\n",
    "\n",
    "!qiime emperor plot \\\n",
    "  --i-pcoa pcoa-braycurtis-auto-fmt.qza \\\n",
    "  --m-metadata-file ./new-sample-metadata.tsv \\\n",
    "  --o-visualization braycurtis-auto-fmt-emperor.qzv"
   ]
  },
  {
   "cell_type": "markdown",
   "id": "6a3fc3b5-f876-44ca-ba7c-e1f522c767ba",
   "metadata": {},
   "source": [
    "### Taxa-bar Creation\n",
    "Another way we can look at microbial composition is to investigate the taxa barplot. One thing to Note, these tend to be even more chaotic then the Amplicon data."
   ]
  },
  {
   "cell_type": "code",
   "execution_count": null,
   "id": "c6f8d403-afc5-4506-ab07-33ba10c16983",
   "metadata": {},
   "outputs": [],
   "source": [
    "!qiime taxa barplot \\\n",
    "  --i-table ./moshpit_tutorial/kraken-outputs/table-bracken.qza \\\n",
    "  --i-taxonomy ./moshpit_tutorial/kraken-outputs/taxonomy-bracken.qza \\\n",
    "  --m-metadata-file ./new-sample-metadata.tsv \\\n",
    "  --o-visualization taxa-bar-plot.qzv"
   ]
  },
  {
   "cell_type": "markdown",
   "id": "72e48444-8abf-4ab4-878c-35bcc6658b90",
   "metadata": {},
   "source": [
    "### Differential Abundance Analysis\n",
    "ANCOM-BC does not allow for repeated measures, so we need to filter down to a time point that will give us one sample per subject. \n",
    "\n",
    "We will attempt to do that by filtering down to the “peri” timepoint. This will allow us to look at the timepoint directly following FMT."
   ]
  },
  {
   "cell_type": "code",
   "execution_count": null,
   "id": "a047bc6d-a982-41d0-8ca0-d8b5145e1ecf",
   "metadata": {},
   "outputs": [],
   "source": [
    "!qiime feature-table filter-samples \\\n",
    "  --i-table autofmt-table.qza \\\n",
    "  --m-metadata-file ./new-sample-metadata.tsv \\\n",
    "  --p-where \"[disease]='atopic eczema'\" \\\n",
    "  --o-filtered-table peri-fmt-table.qza\n",
    "\n",
    "!qiime feature-table summarize \\\n",
    "  --i-table peri-fmt-table.qza \\\n",
    "  --m-sample-metadata-file ./new-sample-metadata.tsv \\\n",
    "  --o-visualization peri-fmt-table.qzv"
   ]
  },
  {
   "cell_type": "markdown",
   "id": "deb5210c-81f9-4308-9774-5f53e31a1b08",
   "metadata": {},
   "source": [
    "# Contig Analysis\n",
    "## Assemble Reads into Contigs with MEGAHIT\n",
    "The first step in recovering metagenome-assembled genomes (MAGs) is genome assembly itself. There are many genome assemblers available, two of which you can use through our QIIME 2 plugin - here, we will use MEGAHIT. MEGAHIT takes short DNA sequencing reads, constructs a simplified De Bruijn graph, and generates longer contiguous sequences called contigs, providing valuable genetic information for the next steps of our analysis.\n",
    "\n",
    "The --p-num-partition specifies the number of partitions to split the dataset into for parallel processing during assembly.\n",
    "\n",
    "The --p-presets specifies the preset mode for MEGAHIT. In this case, it’s set to “meta-sensitive” for metagenomic data.\n",
    "\n",
    "The --p-cpu-threads specifies the number of CPU threads to use during assembly."
   ]
  },
  {
   "cell_type": "code",
   "execution_count": null,
   "id": "a0bf69f9-7c27-4ff8-a503-3392c3451742",
   "metadata": {},
   "outputs": [],
   "source": [
    "!qiime assembly assemble-megahit \\\n",
    "    --i-seqs \"./fondue-output/paired_reads.qza\" \\\n",
    "    --p-presets \"meta-sensitive\" \\\n",
    "    --p-num-cpu-threads 64 \\\n",
    "    --p-num-partitions 4 \\\n",
    "    --o-contigs \"./moshpit_tutorial/cache:contigs\" \\\n",
    "    --verbose"
   ]
  },
  {
   "cell_type": "markdown",
   "id": "82346ab0-0ec7-4b27-bb68-2adefa5adaa0",
   "metadata": {},
   "source": [
    "## EggNOG search using diamond aligner\n",
    "Searches for homologous sequences in the EggNOG database using the Diamond aligner for faster processing.\n",
    "\n",
    "The --p-db-in-memoryloads the database into memory for faster processing."
   ]
  },
  {
   "cell_type": "code",
   "execution_count": null,
   "id": "e4c6f8b7-7262-408a-a6fb-eccba4ee428f",
   "metadata": {},
   "outputs": [],
   "source": [
    "!qiime moshpit eggnog-diamond-search \\\n",
    "  --i-sequences \"./moshpit_tutorial/cache:contigs\" \\\n",
    "  --i-diamond-db \"./moshpit_tutorial/cache:eggnog_diamond_full\"\\\n",
    "  --p-num-cpus 14 \\\n",
    "  --p-db-in-memory \\\n",
    "  --o-eggnog-hits \"./moshpit_tutorial/cache:diamond_hits_contigs\" \\\n",
    "  --o-table \"./moshpit_tutorial/cache:diamond_feature_table_contigs\" \\\n",
    "  --verbose"
   ]
  }
 ],
 "metadata": {
  "kernelspec": {
   "display_name": "Python [conda env:qiime2-shotgun-2024.2]",
   "language": "python",
   "name": "conda-env-qiime2-shotgun-2024.2-py"
  },
  "language_info": {
   "codemirror_mode": {
    "name": "ipython",
    "version": 3
   },
   "file_extension": ".py",
   "mimetype": "text/x-python",
   "name": "python",
   "nbconvert_exporter": "python",
   "pygments_lexer": "ipython3",
   "version": "3.8.15"
  }
 },
 "nbformat": 4,
 "nbformat_minor": 5
}
