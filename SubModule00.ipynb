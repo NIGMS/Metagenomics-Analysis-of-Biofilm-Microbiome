{
 "cells": [
  {
   "cell_type": "markdown",
   "metadata": {},
   "source": [
    "\n",
    "<img src=\"images/Biofilm Website 2.png\" width=\"600\" height=\"500\"></img>"
   ]
  },
  {
   "cell_type": "markdown",
   "metadata": {
    "tags": []
   },
   "source": [
    "# Submodule #0: Introduction - Concept Inventory and Workflow Overview\n",
    "\n",
    "#### Microbial Community and Biofilm Analysis from Metagenomics Datasets: Docker with Google Cloud Tutorial"
   ]
  },
  {
   "cell_type": "markdown",
   "metadata": {},
   "source": [
    "Biofilms are complex formations of microbial communities composed of different types of microorganisms such as bacteria, viruses and fungi. \n",
    "Here, we present a biofilm metagenomics workflow in the form of a self-paced practical learning module to aid in the understanding of the role of biofilms in human health. This will include the analysis of the biofilm community composition, diversity, and function. We will leverage quorum sensing signatures to provide insights into the microbial biofilm phenotype response markers.\n",
    "\n",
    "\n",
    "**Primary Objective:** Develop a workflow characterizing the taxonomic diversity of biofilm communities and develop an educational resource to assist in the understanding of biofilm metagenomics analysis.\n"
   ]
  },
  {
   "cell_type": "markdown",
   "metadata": {},
   "source": [
    "\n",
    "<img src=\"images/GraphicalAbstract2022IEEE.png\" width=\"300\" height=\"200\"></img>\n",
    "\n",
    "Figure 1"
   ]
  },
  {
   "cell_type": "markdown",
   "metadata": {
    "tags": []
   },
   "source": [
    "See our intro video for a review of the learning module, core concepts, and methods used to setup a metagenomic experiment, collect data, and analyze it for new biomarker marker discovery.\n",
    "\n",
    "<font color = \"red\"> <b>[Intro_video] </b> </font>"
   ]
  },
  {
   "cell_type": "markdown",
   "metadata": {
    "tags": []
   },
   "source": [
    "----------------------------------------------------------------------------------------------------------------\n",
    "# Training Plan \n"
   ]
  },
  {
   "cell_type": "markdown",
   "metadata": {},
   "source": [
    "<font color=\"green\"> **Submodule #0: Introduction - Concept Inventory and Workflow Overview** </font>\n",
    "\n",
    " \n",
    "Submodule #1:  Metagenome Data Preparation and QC\n",
    "\n",
    " \n",
    "Submodule #2: Microbiome Analysis\n",
    "\n",
    "\n",
    "Submodule #3: Biomarker Discovery\n",
    "\n",
    " \n",
    "Submodule #4: Microbiome Community Analysis\n",
    "\n",
    "\n",
    "Submodule #5: Metagenomics Analysis of Microbiome Community and Biofilm Using NextFlow!"
   ]
  },
  {
   "cell_type": "markdown",
   "metadata": {
    "tags": []
   },
   "source": [
    "# Learning Objectives:\n",
    "\n",
    "The biofilm metagenomics workflow self-learning module can be used at the undergraduate and graduate levels. The learning objectives vary slightly based on the audience. It would also be our intention to offer additional technical learning objectives, such as deploying the learning module to alternate platforms and customizing the workflow, for interested students."
   ]
  },
  {
   "cell_type": "markdown",
   "metadata": {},
   "source": [
    "<div class=\"alert alert-block alert-success\">\n",
    "    <i class=\"fa fa-hand-paper-o\" aria-hidden=\"true\"></i>\n",
    "    <b>Note: </b>  This module can take up to 2 hours to complete.\n",
    "</div>"
   ]
  },
  {
   "cell_type": "markdown",
   "metadata": {
    "tags": []
   },
   "source": [
    "----------------------------------------------------------------------------------------------------------------\n",
    "\n",
    "# Submodule #0: Introduction - Concept Inventory and Workflow Overview"
   ]
  },
  {
   "cell_type": "markdown",
   "metadata": {
    "tags": []
   },
   "source": [
    "## LO1. Quick Start - Concepts Inventory\n",
    " > The learner will receive fundamental concepts related to microbiome and biofilm analysis. Biofilms have great importance for public health because of their role in certain infectious diseases and importance in a variety of device-related infections."
   ]
  },
  {
   "cell_type": "markdown",
   "metadata": {
    "tags": []
   },
   "source": [
    "<div class=\"alert alert-block alert-success\">\n",
    "    <i class=\"fa fa-hand-paper-o\" aria-hidden=\"true\"></i>\n",
    "    <b>Note: </b> The code below uses the IPython.display tool and imports the function that allows the user to play a YouTube video in Jupyter Notebook.\n",
    "</div>"
   ]
  },
  {
   "cell_type": "markdown",
   "metadata": {
    "tags": []
   },
   "source": [
    "### What Is A Biofilm?"
   ]
  },
  {
   "cell_type": "code",
   "execution_count": 1,
   "metadata": {},
   "outputs": [
    {
     "data": {
      "image/jpeg": "[encoded data removed]",
      "text/html": [
       "\n",
       "        <iframe\n",
       "            width=\"800\"\n",
       "            height=\"400\"\n",
       "            src=\"https://www.youtube.com/embed/0DSA_8t4-UA\"\n",
       "            frameborder=\"0\"\n",
       "            allowfullscreen\n",
       "            \n",
       "        ></iframe>\n",
       "        "
      ],
      "text/plain": [
       "<IPython.lib.display.YouTubeVideo at 0x7fd987fc0940>"
      ]
     },
     "execution_count": 1,
     "metadata": {},
     "output_type": "execute_result"
    }
   ],
   "source": [
    "#Run the command below to watch the video\n",
    "from IPython.display import YouTubeVideo\n",
    "\n",
    "YouTubeVideo('0DSA_8t4-UA', width=800, height=400)"
   ]
  },
  {
   "cell_type": "markdown",
   "metadata": {},
   "source": [
    "#### Change kernel from Python 3 to qiime2-2022.2 (on top right of working space)"
   ]
  },
  {
   "cell_type": "markdown",
   "metadata": {},
   "source": [
    "As stated above, in the upper right of this workspace where it says \"Python 3\" click to open a dropdown menu and click on \"qiime2-2021.11\". This changes the kernel that we are working in. We will be using this kernel for sumodules 2 and a part of submodule 3."
   ]
  },
  {
   "cell_type": "markdown",
   "metadata": {},
   "source": [
    "<p style=\"color:red\"><b>[Change_kernel.mp4]</b></p>"
   ]
  },
  {
   "cell_type": "markdown",
   "metadata": {},
   "source": [
    "The code below uses a jupyter quiz tool that allows a user to create a quiz in jupyter notebook. You will see a quiz at the end of each submodule. Run the command below to take the quiz."
   ]
  },
  {
   "cell_type": "code",
   "execution_count": 2,
   "metadata": {
    "tags": []
   },
   "outputs": [
    {
     "data": {
      "text/html": [
       "\n",
       "        <iframe\n",
       "            width=\"800\"\n",
       "            height=\"350\"\n",
       "            src=\"Quiz/QS11.html\"\n",
       "            frameborder=\"0\"\n",
       "            allowfullscreen\n",
       "            \n",
       "        ></iframe>\n",
       "        "
      ],
      "text/plain": [
       "<IPython.lib.display.IFrame at 0x7fd987ffd640>"
      ]
     },
     "execution_count": 2,
     "metadata": {},
     "output_type": "execute_result"
    }
   ],
   "source": [
    "from IPython.display import IFrame\n",
    "IFrame(\"Quiz/QS11.html\", width=800, height=350)"
   ]
  },
  {
   "cell_type": "markdown",
   "metadata": {},
   "source": [
    "-------------------------------------------------------------------"
   ]
  },
  {
   "cell_type": "markdown",
   "metadata": {
    "tags": []
   },
   "source": [
    "## LO2. Dataset and Toolkits \n",
    "The learner will be able to describe and manipulate dataset and toolkits relevant to microbiome analysis project. Biofilm metagenomic analysis can be leveraged to aid in our understanding of microbial taxonomy, functions, interactions, ecology, and evolution."
   ]
  },
  {
   "cell_type": "markdown",
   "metadata": {
    "tags": []
   },
   "source": [
    "## Bioinformatics Workflow Description"
   ]
  },
  {
   "cell_type": "markdown",
   "metadata": {
    "tags": []
   },
   "source": [
    "### Bioinformatics Workflow Overview\n",
    "\n",
    "<img src=\"images/USD_workflow.png\" width=\"450\" height=\"300\"></img>"
   ]
  },
  {
   "cell_type": "markdown",
   "metadata": {},
   "source": [
    "### Workflow Analytic Toolkits\n",
    "- Docker\n",
    "- Jupyther Notebook\n",
    "- Custom Scripts\n",
    "- FastQC\n",
    "- MultiQC\n",
    "- Trimmomatic\n",
    "- QIIME2\n",
    "- Picrust2\n",
    "- MicrobiomeAnalystR\n",
    "- Google BigQuery\n",
    "- BLAST+"
   ]
  },
  {
   "cell_type": "markdown",
   "metadata": {},
   "source": [
    "## LO3. A Cloud-Based Workflow Implementation\n",
    "A cloud-based approach provides easy access to suitable computational capabilities, but it is important to balance the allocation of the computational services of the analysis workflow in a cost-effective way. In the figure below, we show the technical infrastructure diagram of the step-by-step workflow presented in this module."
   ]
  },
  {
   "cell_type": "markdown",
   "metadata": {},
   "source": [
    "<img src=\"images/USD_TID.png\" width=\"700\" height=\"700\">"
   ]
  },
  {
   "cell_type": "markdown",
   "metadata": {},
   "source": [
    "--------------------------------------------------------------"
   ]
  },
  {
   "cell_type": "markdown",
   "metadata": {},
   "source": [
    "# Summary"
   ]
  },
  {
   "cell_type": "markdown",
   "metadata": {},
   "source": [
    "In this submodule we looked at a high-level overview of bacterial biofilms, learned about the sequencing methods used to generate metagenomic data, and explored the technology that we will use to analyze the data. In the next submodule, we will get some data and do some basic quality control checks and data preparation on it."
   ]
  },
  {
   "cell_type": "markdown",
   "metadata": {},
   "source": [
    "# References\n",
    "1. Miquel, S., et al., Anti-biofilm activity as a health issue. Frontiers in microbiology, 2016. 7: p. 592.\n",
    "2. Calle, M.L., Statistical analysis of metagenomics data. Genomics & informatics, 2019. 17(1).\n",
    "3. Schmeisser, C., et al., Metagenome survey of biofilms in drinking-water networks. Applied and environmental microbiology, 2003. 69(12): p. 7298-7309.\n",
    "4. Kumar Awasthi, M., et al., Metagenomics for taxonomy profiling: tools and approaches. Bioengineered, 2020. 11(1): p. 356-374.\n",
    "5. Shafquat, A., et al., Functional and phylogenetic assembly of microbial communities in the human microbiome. Trends in microbiology, 2014. 22(5): p. 261-266.\n",
    "6. Neelakanta, G. and H. Sultana, The use of metagenomic approaches to analyze changes in microbial communities. Microbiol Insights 6: MBI. S10819. 2013.\n",
    "7. Hadrich, D., Microbiome research is becoming the key to better understanding health and nutrition. Frontiers in genetics, 2018. 9: p. 212.\n",
    "8. Cheng, M., L. Cao, and K. Ning, Microbiome big-data mining and applications using single-cell technologies and metagenomics approaches toward precision medicine. Frontiers in genetics, 2019. 10: p. 972.\n",
    "9. Thomson, C.H., Biofilms: do they affect wound healing? International wound journal, 2011. 8(1): p. 63-67.\n",
    "10. Suryaletha, K., et al., Metataxonomic approach to decipher the polymicrobial burden in diabetic foot ulcer and its biofilm mode of infection. International wound journal, 2018. 15(3): p. 473-481.\n",
    "11. Francolini, I. and G. Donelli, Prevention and control of biofilm-based medical-device-related infections. FEMS Immunology & Medical Microbiology, 2010. 59(3): p. 227-238.\n",
    "12. Wi, Y.M. and R. Patel, Understanding biofilms and novel approaches to the diagnosis, prevention, and treatment of medical device-associated infections. Infectious Disease Clinics, 2018. 32(4): p. 915-929.\n",
    "13. Mande, S.S., M.H. Mohammed, and T.S. Ghosh, Classification of metagenomic sequences: methods and challenges. Briefings in bioinformatics, 2012. 13(6): p. 669-681.\n",
    "14. Sedlar, K., K. Kupkova, and I. Provaznik, Bioinformatics strategies for taxonomy independent binning and visualization of sequences in shotgun metagenomics. Computational and Structural Biotechnology Journal, 2017. 15: p. 48-55.\n",
    "15. Eng, A., A.J. Verster, and E. Borenstein, MetaLAFFA: a flexible, end-to-end, distributed computing-compatible metagenomic functional annotation pipeline. BMC bioinformatics, 2020. 21(1): p. 1-9.\n",
    "16. Qasha, R., J. Cała, and P. Watson. A framework for scientific workflow reproducibility in the cloud. in 2016 ieee 12th international conference on e-science (e-science). 2016. IEEE.\n",
    "17. Wilkinson, M.D., et al., The FAIR Guiding Principles for scientific data management and stewardship. Scientific data, 2016. 3(1): p. 1-9.\n",
    "18. Devisetty, U.K., et al., Bringing your tools to CyVerse discovery environment using Docker. F1000Research, 2016. 5.\n",
    "19. Gnimpieba, E.Z., et al., Bio-TDS: bioscience query tool discovery system. Nucleic acids research, 2018. 46(17): p. 9251-9251."
   ]
  },
  {
   "cell_type": "markdown",
   "metadata": {},
   "source": [
    "# Images and Illustration Credit: \n",
    "\n",
    "Figure 1 credit to Jessica Zylla, created with Biorender"
   ]
  },
  {
   "cell_type": "code",
   "execution_count": null,
   "metadata": {},
   "outputs": [],
   "source": []
  }
 ],
 "metadata": {
  "environment": {
   "kernel": "python3",
   "name": "r-cpu.4-2.m105",
   "type": "gcloud",
   "uri": "gcr.io/deeplearning-platform-release/r-cpu.4-2:m105"
  },
  "kernelspec": {
   "display_name": "Python [conda env:qiime2-2021.11]",
   "language": "python",
   "name": "conda-env-qiime2-2021.11-py"
  },
  "language_info": {
   "codemirror_mode": {
    "name": "ipython",
    "version": 3
   },
   "file_extension": ".py",
   "mimetype": "text/x-python",
   "name": "python",
   "nbconvert_exporter": "python",
   "pygments_lexer": "ipython3",
   "version": "3.8.12"
  },
  "vscode": {
   "interpreter": {
    "hash": "bddd231fadbe39de3f6504795bbad30732698b640aad69587ca2349815556848"
   }
  }
 },
 "nbformat": 4,
 "nbformat_minor": 4
}
